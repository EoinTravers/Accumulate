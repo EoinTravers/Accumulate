{
 "cells": [
  {
   "cell_type": "code",
   "execution_count": null,
   "metadata": {},
   "outputs": [],
   "source": [
    "import numpy as np\n",
    "import matplotlib.pyplot as plt\n",
    "import pandas as pd\n",
    "import matplotlib as mpl\n",
    "import seaborn as sns\n",
    "import sys\n",
    "import os\n",
    "from scipy import stats\n",
    "sys.path.insert(0, os.path.abspath('..'))"
   ]
  },
  {
   "cell_type": "code",
   "execution_count": null,
   "metadata": {},
   "outputs": [],
   "source": [
    "%load_ext autoreload\n",
    "%autoreload 2\n",
    "import accumulate as accum"
   ]
  },
  {
   "cell_type": "code",
   "execution_count": null,
   "metadata": {},
   "outputs": [],
   "source": [
    "from ipywidgets import interact, FloatSlider\n",
    "def fs(v, low, high, step, desc=''):\n",
    "    return FloatSlider(value=v, min=low, max=high, step=step, description=desc, continuous_update=False)\n"
   ]
  },
  {
   "cell_type": "markdown",
   "metadata": {},
   "source": [
    "# Simple Wald Model\n"
   ]
  },
  {
   "cell_type": "code",
   "execution_count": null,
   "metadata": {},
   "outputs": [],
   "source": [
    "def wald_simulation_plot(t0=1., v=.5, z=0, a=1.):\n",
    "    model = accum.Wald(pars=[t0, v, z, a], max_time=5)\n",
    "    accum.viz.visualise_ddm(model, model_type='wald', measure='raw')\n",
    "    title = 'Start time = %.1f, Drift = %.1f, Start = %.1f, Threshold = %.1f' % (t0, v, z, a)\n",
    "    plt.suptitle(title, y=1.01)\n",
    "\n",
    "interact(wald_simulation_plot,\n",
    "         t0  = fs(1., 0, 5., .1,   'Start time'),\n",
    "         v   = fs(.5, 0, 2., .1,   'Drift'),\n",
    "         z   = fs(0, 0, .5, .1,   'Starting point'),\n",
    "         a   = fs(.5, 0., 2., .1,   'Threshold'));"
   ]
  },
  {
   "cell_type": "code",
   "execution_count": null,
   "metadata": {},
   "outputs": [],
   "source": [
    "accum.Wald().describe_parameters()"
   ]
  },
  {
   "cell_type": "markdown",
   "metadata": {},
   "source": [
    "# Simple Drift Diffusion Model\n"
   ]
  },
  {
   "cell_type": "code",
   "execution_count": null,
   "metadata": {},
   "outputs": [],
   "source": [
    "def ddm_simulation_plot(t0=1., v=.5, z=0., a=.5):\n",
    "    model = accum.Diffusion(pars=[t0, v, z, a])\n",
    "    accum.viz.visualise_ddm(model)\n",
    "    title = 't0 = %.1f, Drift = %.1f, Bias = %.1f, Threshod = %.1f' % (t0, v, z, a)\n",
    "    plt.suptitle(title, y=1.01)\n",
    "\n",
    "def fs(v, low, high, step, desc=''):\n",
    "    return FloatSlider(value=v, min=low, max=high, step=step, description=desc)\n",
    "\n",
    "interact(ddm_simulation_plot,\n",
    "         t0  = fs(1., 0, 2., .1,   't0'),\n",
    "         v   = fs(.5, 0, 2., .1,   'Drift'),\n",
    "         z   = fs(0., -1., 1., .1,  'Bias'),\n",
    "         a     = fs(.5, 0., 2., .1,   'Threshold'));"
   ]
  },
  {
   "cell_type": "code",
   "execution_count": null,
   "metadata": {},
   "outputs": [],
   "source": [
    "accum.Diffusion().describe_parameters()"
   ]
  },
  {
   "cell_type": "markdown",
   "metadata": {},
   "source": [
    "# Hierarchical Drift Diffusion Model"
   ]
  },
  {
   "cell_type": "code",
   "execution_count": null,
   "metadata": {},
   "outputs": [],
   "source": [
    "from ipywidgets import interact, FloatSlider\n",
    "\n",
    "def hddm_simulation_plot(t0=1., v=.5, z=0., a=.5,\n",
    "                         t0_sd=.1, v_sd=.1, z_sd=.1, a_sd=.1):\n",
    "    model = accum.HDiffusion(pars=[t0, v, z, a, t0_sd, v_sd, z_sd, a_sd])\n",
    "    accum.viz.visualise_ddm(model, measure='raw')\n",
    "#     title = 't0 = %.1f, Drift = %.1f, Bias = %.1f, Threshod = %.1f' % (t0, v, z, a)\n",
    "#     plt.suptitle(title, y=1.01)\n",
    "\n",
    "def fs(v, low, high, step, desc=''):\n",
    "    return FloatSlider(value=v, min=low, max=high, step=step, description=desc)\n",
    "\n",
    "interact(hddm_simulation_plot,\n",
    "         t0  = fs(1., 0, 2., .1,   't0'),\n",
    "         v   = fs(.5, -2, 2., .1,   'Drift'),\n",
    "         z   = fs(0., -1., 1., .1,  'Bias'),\n",
    "         a     = fs(.5,  0., 1., .1,   'Threshold'),\n",
    "         t0_sd  = fs(.1, 0, 1., .1,   'SD t0'),\n",
    "         v_sd   = fs(.1, 0, 1., .1,   'SD Drift'),\n",
    "         z_sd   = fs(.1, 0, 1., .1,  'SD Bias'),\n",
    "         a_sd   = fs(.1, 0., 1., .1,   'SD Threshold'));\n",
    "\n"
   ]
  },
  {
   "cell_type": "code",
   "execution_count": null,
   "metadata": {},
   "outputs": [],
   "source": [
    "accum.HDiffusion().describe_parameters()"
   ]
  },
  {
   "cell_type": "markdown",
   "metadata": {},
   "source": []
  }
 ],
 "metadata": {
  "kernelspec": {
   "display_name": "Python 3",
   "language": "python",
   "name": "python3"
  },
  "language_info": {
   "codemirror_mode": {
    "name": "ipython",
    "version": 3
   },
   "file_extension": ".py",
   "mimetype": "text/x-python",
   "name": "python",
   "nbconvert_exporter": "python",
   "pygments_lexer": "ipython3",
   "version": "3.7.4"
  }
 },
 "nbformat": 4,
 "nbformat_minor": 2
}
